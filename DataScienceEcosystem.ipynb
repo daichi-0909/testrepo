{
 "cells": [
  {
   "cell_type": "markdown",
   "id": "14502d45-c695-4914-aa62-42d0e87cafda",
   "metadata": {},
   "source": [
    "# Data Science Tools and Ecosystem"
   ]
  },
  {
   "cell_type": "markdown",
   "id": "86863401-fb84-417b-aca7-74fc60b0ae14",
   "metadata": {},
   "source": [
    "In this notebook, Data Science Tools and Ecosystem are summarized."
   ]
  },
  {
   "cell_type": "markdown",
   "id": "4e853ef2-23a4-449a-a77d-379cb9c716d4",
   "metadata": {},
   "source": [
    "**Objectives:**\n",
    "- List popular languages for Data Science\n",
    "- List popular libraries used by Data Scientists\n",
    "- Indicate development environment open source tools used in Data Science\n",
    "- demonstrate a few examples of evaluating arithmetic expressions in Python"
   ]
  },
  {
   "cell_type": "markdown",
   "id": "7b64b705-a242-4a8e-959b-9dc96c035bca",
   "metadata": {},
   "source": [
    "Some of the popular languages that Data Scientists use are:\n",
    "1. Python\n",
    "2. R\n",
    "3. SQL"
   ]
  },
  {
   "cell_type": "markdown",
   "id": "0b226e9f-ccbc-4a6b-afe6-18611cc81002",
   "metadata": {},
   "source": [
    "Some of the commonly used libraries used by Data Scientists include:\n",
    "1. Numpy\n",
    "2. Pandas\n",
    "3. Matplotlib\n",
    "4. Scipy\n",
    "5. Scikit-learn"
   ]
  },
  {
   "cell_type": "markdown",
   "id": "60435f0a-1300-492d-8594-f001986a740c",
   "metadata": {},
   "source": [
    "| Data Science Tools |\n",
    "| ------------------ |\n",
    "| JupyterLab         |\n",
    "| Visual Studio Code |\n",
    "| RStudio            |"
   ]
  },
  {
   "cell_type": "markdown",
   "id": "dd2ce19f-925c-4f70-b7d9-b36acc4b4678",
   "metadata": {},
   "source": [
    "### Below are a few examples of evaluating arithmetic expressions in Python"
   ]
  },
  {
   "cell_type": "code",
   "execution_count": 1,
   "id": "c2ee0a97-87cb-436b-b1fa-d2fbcabe45c7",
   "metadata": {
    "tags": []
   },
   "outputs": [
    {
     "data": {
      "text/plain": [
       "17"
      ]
     },
     "execution_count": 1,
     "metadata": {},
     "output_type": "execute_result"
    }
   ],
   "source": [
    "# This a simple arithmetic expression to multiply then add integers\n",
    "(3*4)+5"
   ]
  },
  {
   "cell_type": "code",
   "execution_count": 3,
   "id": "2522745c-519d-4d67-9bd8-a8e991fd8a00",
   "metadata": {
    "tags": []
   },
   "outputs": [
    {
     "name": "stdout",
     "output_type": "stream",
     "text": [
      "3.3333333333333335 hours\n"
     ]
    }
   ],
   "source": [
    "# This will convert 200 minutes to hours by diving by 60\n",
    "print((200 / 60), \"hours\")"
   ]
  },
  {
   "cell_type": "markdown",
   "id": "f493d7af-dd07-40b6-bbb0-13f16699de6a",
   "metadata": {},
   "source": [
    "## Author\n",
    "Daichi Azumi"
   ]
  },
  {
   "cell_type": "code",
   "execution_count": null,
   "id": "76775f90-b08b-433f-9e01-c1695b226a9c",
   "metadata": {},
   "outputs": [],
   "source": []
  }
 ],
 "metadata": {
  "kernelspec": {
   "display_name": "Python 3 (ipykernel)",
   "language": "python",
   "name": "python3"
  },
  "language_info": {
   "codemirror_mode": {
    "name": "ipython",
    "version": 3
   },
   "file_extension": ".py",
   "mimetype": "text/x-python",
   "name": "python",
   "nbconvert_exporter": "python",
   "pygments_lexer": "ipython3",
   "version": "3.9.16"
  }
 },
 "nbformat": 4,
 "nbformat_minor": 5
}
